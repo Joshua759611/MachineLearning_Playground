{
 "cells": [
  {
   "cell_type": "code",
   "execution_count": 10,
   "metadata": {},
   "outputs": [],
   "source": [
    "# authorization.py\n",
    "import tekore as tk\n",
    "\n",
    "def auth():\n",
    "  client_id  = \"b8827e19044d482d9cb1da2cd0d2346f\"\n",
    "  secret_key = \"02759ef505ba4d8aafa72242ea1d6667\"\n",
    "  redirect_uri = 'https://musica.com/callback'\n",
    "  token = tk.request_client_token(client_id, secret_key)\n",
    "  return tk.Spotify(token)"
   ]
  },
  {
   "cell_type": "code",
   "execution_count": null,
   "metadata": {},
   "outputs": [],
   "source": [
    "#I am going to use a method that draws 100 tracks from over 100 genres, \n",
    "#resulting in a track database of around 10000 tracks with music from various styles.\n",
    "import sys\n",
    "from auth import Authorization\n",
    "import pandas as pd\n",
    "import time\n",
    "import spotify\n",
    "from tqdm import tqdm\n",
    "\n",
    "# authorize and retrieve Spotify object\n",
    "spotify = Authorization.auth() # type: ignore\n",
    "\n",
    "# get genre seeds\n",
    "genres = spotify.recommendation_genre_seeds() \n",
    "\n",
    "data_dict = {\n",
    "  \"id\":[], \n",
    "  \"genre\":[], \n",
    "  \"track_name\":[], \n",
    "  \"artist_name\":[],\n",
    "  \"valence\":[],     # <-- this is our psychological value\n",
    "  \"energy\":[]       # <-- this too \n",
    "}\n",
    "  \n",
    "# Get recommendation for each genre\n",
    "for genre in tqdm(genres):\n",
    "      \n",
    "  recs = spotify.recommendations(seed_genres = [genre], limit = 100)\n",
    "  recs = recs[\"tracks\"]\n",
    "  \n",
    "  for track in recs:\n",
    "      data_dict[\"id\"].append(track[\"id\"])\n",
    "      data_dict[\"genre\"].append(genre)\n",
    "      track_meta = spotify.track(track[\"id\"])\n",
    "      data_dict[\"track_name\"].append(track_meta[\"name\"])\n",
    "      data_dict[\"artist_name\"].append(track_meta[\"album\"][\"artists\"][0][\"name\"])\n",
    "      track_features = spotify.audio_features(track[\"id\"])\n",
    "      data_dict[\"valence\"].append(track_features[0][\"valence\"])\n",
    "      data_dict[\"energy\"].append(track_features[0][\"energy\"])\n",
    "\n",
    "# Store data in pandas DataFrame\n",
    "df = pd.DataFrame(data_dict)\n",
    "\n",
    "# Drop duplicates\n",
    "df.drop_duplicates(subset = \"id\", keep = \"first\", inplace = True)\n",
    "df.to_csv(\"arousal_dataset.csv\", index = False)"
   ]
  },
  {
   "cell_type": "code",
   "execution_count": 13,
   "metadata": {},
   "outputs": [],
   "source": [
    "def distance(p1, p2):\n",
    "    distance_x = p2[0]-p1[0]\n",
    "    distance_y = p2[1]-p1[1]\n",
    "    distance_vec = [distance_x, distance_y]\n",
    "    norm = (distance_vec[0]**2 + distance_vec[1]**2)**(1/2)\n",
    "    return norm"
   ]
  },
  {
   "cell_type": "code",
   "execution_count": null,
   "metadata": {},
   "outputs": [],
   "source": [
    "import pandas as p\n",
    "import random\n",
    "import auth\n",
    "import numpy as np\n",
    "#from numpy.linalg import normd\n",
    "from numpy.linalg import norm\n",
    "\n",
    "#read dataset from which was created above\n",
    "df = pd.read_csv(\"arousal_dataset.csv\")\n",
    "\n",
    "#lets combine valence and energy \n",
    "df[\"mood_vec\"] = df[[\"valence\", \"energy\"]].values.tolist()"
   ]
  },
  {
   "cell_type": "code",
   "execution_count": null,
   "metadata": {},
   "outputs": [],
   "source": [
    "def recommend(track_id, ref_df, spotify, n_recs = 5):\n",
    "    features = spotify.track_audio_features(track_id)\n",
    "    vector = np.array([features.valence, features.energy])\n",
    "    \n",
    "    ref_df[\"distances\"] = ref_df[\"mood_vec\"].apply(lambda x: norm(vector-np.array(x)))\n",
    "\n",
    "    df_sorted = ref_df.sort_values(by = \"distances\", ascending = True)\n",
    "\n",
    "    df_sorted = ref_df_sorted[ref_df_sorted[\"id\"] != track_id]\n",
    "    \n",
    "    return ref_df_sorted.iloc[:n_recs]"
   ]
  },
  {
   "cell_type": "code",
   "execution_count": null,
   "metadata": {},
   "outputs": [],
   "source": [
    "track = \"4rDbp1vnvEhieiccprPMdI\"\n",
    "recommend(track_id = track, ref_df = df, sp = sp, n_recs = 5)"
   ]
  }
 ],
 "metadata": {
  "kernelspec": {
   "display_name": "Python 3",
   "language": "python",
   "name": "python3"
  },
  "language_info": {
   "codemirror_mode": {
    "name": "ipython",
    "version": 3
   },
   "file_extension": ".py",
   "mimetype": "text/x-python",
   "name": "python",
   "nbconvert_exporter": "python",
   "pygments_lexer": "ipython3",
   "version": "3.10.6"
  },
  "orig_nbformat": 4
 },
 "nbformat": 4,
 "nbformat_minor": 2
}
